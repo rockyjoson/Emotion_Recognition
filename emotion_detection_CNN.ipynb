{
 "cells": [
  {
   "cell_type": "markdown",
   "metadata": {},
   "source": [
    "CNN Model to detect different Human Emotions"
   ]
  },
  {
   "cell_type": "markdown",
   "metadata": {},
   "source": [
    "Different Emotions detected in this Model: 'anger','fear','happy','neutral','sad','surprised'"
   ]
  },
  {
   "cell_type": "markdown",
   "metadata": {},
   "source": [
    "Importing Necessary Libraries"
   ]
  },
  {
   "cell_type": "code",
   "execution_count": 1,
   "metadata": {},
   "outputs": [],
   "source": [
    "import pandas as pd\n",
    "import matplotlib.pyplot as plt\n",
    "from skimage.transform import resize\n",
    "from skimage.io import imread\n",
    "import os\n",
    "from keras.models import Sequential\n",
    "from keras.layers import Conv2D,MaxPool2D,Dense,Flatten\n",
    "from keras.optimizers import Adam"
   ]
  },
  {
   "cell_type": "code",
   "execution_count": 2,
   "metadata": {},
   "outputs": [
    {
     "data": {
      "text/plain": [
       "['angry', 'fearful', 'happy', 'neutral', 'sad', 'surprised']"
      ]
     },
     "execution_count": 2,
     "metadata": {},
     "output_type": "execute_result"
    }
   ],
   "source": [
    "os.listdir(r'D:\\DL Projects\\Projects\\Emotion Detection\\test')"
   ]
  },
  {
   "cell_type": "code",
   "execution_count": 3,
   "metadata": {},
   "outputs": [
    {
     "data": {
      "text/plain": [
       "['angry', 'fearful', 'happy', 'neutral', 'sad', 'surprised']"
      ]
     },
     "execution_count": 3,
     "metadata": {},
     "output_type": "execute_result"
    }
   ],
   "source": [
    "os.listdir(r'D:\\DL Projects\\Projects\\Emotion Detection\\train')"
   ]
  },
  {
   "cell_type": "code",
   "execution_count": 4,
   "metadata": {},
   "outputs": [],
   "source": [
    "datadir=r'D:\\DL Projects\\Projects\\Emotion Detection\\train'    # training set path"
   ]
  },
  {
   "cell_type": "markdown",
   "metadata": {},
   "source": [
    "Assigning the class labels and creating the training sets"
   ]
  },
  {
   "cell_type": "code",
   "execution_count": 5,
   "metadata": {},
   "outputs": [
    {
     "name": "stdout",
     "output_type": "stream",
     "text": [
      "angry : 3995\n",
      "loaded category angry\n",
      "fearful : 4097\n",
      "loaded category fearful\n",
      "happy : 4988\n",
      "loaded category happy\n",
      "neutral : 4965\n",
      "loaded category neutral\n",
      "sad : 4830\n",
      "loaded category sad\n",
      "surprised : 3171\n",
      "loaded category surprised\n"
     ]
    }
   ],
   "source": [
    "X_train=[]\n",
    "y_train=[]\n",
    "categories=['angry','fearful','happy','neutral','sad','surprised']\n",
    "for i in categories:\n",
    "  path=os.path.join(datadir,i)    # gets the path of each folder\n",
    "  #print(path)                    # D:\\DL Projects\\Projects\\Emotion Detection\\train\\angry\n",
    "  images=os.listdir(path)         # gets the images in each folders\n",
    "  #print(images)\n",
    "  print(i,':',len(images))        # check number of images in each folder\n",
    "  for img in images:\n",
    "    img_path=os.path.join(path,img)   # gets path of each image\n",
    "    #print(img_path)                  #D:\\DL Projects\\Projects\\Emotion Detection\\train\\angry\\im1.png\n",
    "    img_array=imread(img_path)        # gets the array of RGB values\n",
    "    img_resized=resize(img_array,(64,64,1))  # channel 1 means greyscale image\n",
    "    X_train.append(img_resized)\n",
    "    y_train.append(categories.index(i))  # assigning class labels\n",
    "  print('loaded category',i)\n"
   ]
  },
  {
   "cell_type": "code",
   "execution_count": 6,
   "metadata": {},
   "outputs": [
    {
     "data": {
      "text/plain": [
       "26046"
      ]
     },
     "execution_count": 6,
     "metadata": {},
     "output_type": "execute_result"
    }
   ],
   "source": [
    "len(X_train)"
   ]
  },
  {
   "cell_type": "code",
   "execution_count": 7,
   "metadata": {},
   "outputs": [],
   "source": [
    "datadir_test=r'D:\\DL Projects\\Projects\\Emotion Detection\\test'"
   ]
  },
  {
   "cell_type": "markdown",
   "metadata": {},
   "source": [
    "Creating test sets"
   ]
  },
  {
   "cell_type": "code",
   "execution_count": 8,
   "metadata": {},
   "outputs": [
    {
     "name": "stdout",
     "output_type": "stream",
     "text": [
      "angry : 958\n",
      "loaded category angry\n",
      "fearful : 1024\n",
      "loaded category fearful\n",
      "happy : 1450\n",
      "loaded category happy\n",
      "neutral : 1233\n",
      "loaded category neutral\n",
      "sad : 1247\n",
      "loaded category sad\n",
      "surprised : 831\n",
      "loaded category surprised\n"
     ]
    }
   ],
   "source": [
    "X_test=[]\n",
    "y_test=[]\n",
    "categories=['angry','fearful','happy','neutral','sad','surprised']  # same order as training set\n",
    "for i in categories:\n",
    "  path=os.path.join(datadir_test,i)\n",
    "  #print(path)\n",
    "  images=os.listdir(path)\n",
    "  #print(images)\n",
    "  print(i,':',len(images))\n",
    "  for img in images:\n",
    "   img_path=os.path.join(path,img)\n",
    "   #print(img_path)\n",
    "   img_array=imread(img_path)\n",
    "   img_resized=resize(img_array,(64,64,1))\n",
    "   X_test.append(img_resized)\n",
    "   y_test.append(categories.index(i))\n",
    "  print('loaded category',i)"
   ]
  },
  {
   "cell_type": "code",
   "execution_count": 9,
   "metadata": {},
   "outputs": [
    {
     "data": {
      "text/plain": [
       "6743"
      ]
     },
     "execution_count": 9,
     "metadata": {},
     "output_type": "execute_result"
    }
   ],
   "source": [
    "len(X_test)"
   ]
  },
  {
   "cell_type": "code",
   "execution_count": 10,
   "metadata": {},
   "outputs": [],
   "source": [
    "# Converting to numpy arrays\n",
    "import numpy as np\n",
    "X_train=np.array(X_train)\n",
    "y_train=np.array(y_train)\n",
    "X_test=np.array(X_test)\n",
    "y_test=np.array(y_test)"
   ]
  },
  {
   "cell_type": "code",
   "execution_count": 11,
   "metadata": {},
   "outputs": [
    {
     "data": {
      "text/plain": [
       "(26046, 64, 64, 1)"
      ]
     },
     "execution_count": 11,
     "metadata": {},
     "output_type": "execute_result"
    }
   ],
   "source": [
    "X_train.shape"
   ]
  },
  {
   "cell_type": "code",
   "execution_count": 12,
   "metadata": {},
   "outputs": [
    {
     "data": {
      "text/plain": [
       "(26046,)"
      ]
     },
     "execution_count": 12,
     "metadata": {},
     "output_type": "execute_result"
    }
   ],
   "source": [
    "y_train.shape"
   ]
  },
  {
   "cell_type": "markdown",
   "metadata": {},
   "source": [
    "Creating the CNN model"
   ]
  },
  {
   "cell_type": "code",
   "execution_count": 13,
   "metadata": {},
   "outputs": [],
   "source": [
    "model=Sequential()\n",
    "\n",
    "model.add(Conv2D(32,3,input_shape=(64,64,1),activation='relu')) # 32 filters with shape 3x3  # convolution layer # input_shape required in first conv layer\n",
    "model.add(MaxPool2D(2,2)) # pooling layer, 2 x 2 with stride 2\n",
    "\n",
    "model.add(Conv2D(64,3,activation='relu')) \n",
    "model.add(MaxPool2D(2,2))\n",
    "\n",
    "model.add(Conv2D(128,3, activation='relu'))\n",
    "model.add(MaxPool2D(2, 2))\n",
    "model.add(Conv2D(128,3, activation='relu'))\n",
    "model.add(MaxPool2D(2, 2))\n",
    "\n",
    "model.add(Flatten())\n",
    "model.add(Dense(128,activation='relu')) # fully connected layer #any no: of neurons\n",
    "model.add(Dense(6,activation='softmax')) # output layer # 6 class labels-6 neurons"
   ]
  },
  {
   "cell_type": "code",
   "execution_count": 14,
   "metadata": {},
   "outputs": [],
   "source": [
    "model.compile(optimizer=Adam,loss='sparse_categorical_crossentropy',metrics=['accuracy'])"
   ]
  },
  {
   "cell_type": "code",
   "execution_count": 15,
   "metadata": {},
   "outputs": [
    {
     "name": "stdout",
     "output_type": "stream",
     "text": [
      "Epoch 1/50\n",
      "53/53 [==============================] - 111s 2s/step - loss: 1.7838 - accuracy: 0.1957\n",
      "Epoch 2/50\n",
      "53/53 [==============================] - 87s 2s/step - loss: 1.7726 - accuracy: 0.2273\n",
      "Epoch 3/50\n",
      "53/53 [==============================] - 88s 2s/step - loss: 1.7403 - accuracy: 0.2506\n",
      "Epoch 4/50\n",
      "53/53 [==============================] - 101s 2s/step - loss: 1.6986 - accuracy: 0.2954\n",
      "Epoch 5/50\n",
      "53/53 [==============================] - 130s 2s/step - loss: 1.6468 - accuracy: 0.3310\n",
      "Epoch 6/50\n",
      "53/53 [==============================] - 142s 3s/step - loss: 1.5964 - accuracy: 0.3586\n",
      "Epoch 7/50\n",
      "53/53 [==============================] - 101s 2s/step - loss: 1.5627 - accuracy: 0.3783\n",
      "Epoch 8/50\n",
      "53/53 [==============================] - 105s 2s/step - loss: 1.5401 - accuracy: 0.3859\n",
      "Epoch 9/50\n",
      "53/53 [==============================] - 110s 2s/step - loss: 1.5180 - accuracy: 0.3962\n",
      "Epoch 10/50\n",
      "53/53 [==============================] - 87s 2s/step - loss: 1.4977 - accuracy: 0.4052\n",
      "Epoch 11/50\n",
      "53/53 [==============================] - 96s 2s/step - loss: 1.4838 - accuracy: 0.4143\n",
      "Epoch 12/50\n",
      "53/53 [==============================] - 100s 2s/step - loss: 1.4622 - accuracy: 0.4253\n",
      "Epoch 13/50\n",
      "53/53 [==============================] - 94s 2s/step - loss: 1.4488 - accuracy: 0.4298\n",
      "Epoch 14/50\n",
      "53/53 [==============================] - 95s 2s/step - loss: 1.4352 - accuracy: 0.4329\n",
      "Epoch 15/50\n",
      "53/53 [==============================] - 93s 2s/step - loss: 1.4207 - accuracy: 0.4402\n",
      "Epoch 16/50\n",
      "53/53 [==============================] - 109s 2s/step - loss: 1.4098 - accuracy: 0.4455\n",
      "Epoch 17/50\n",
      "53/53 [==============================] - 156s 3s/step - loss: 1.3977 - accuracy: 0.4516\n",
      "Epoch 18/50\n",
      "53/53 [==============================] - 108s 2s/step - loss: 1.3859 - accuracy: 0.4561\n",
      "Epoch 19/50\n",
      "53/53 [==============================] - 157s 3s/step - loss: 1.3747 - accuracy: 0.4614\n",
      "Epoch 20/50\n",
      "53/53 [==============================] - 126s 2s/step - loss: 1.3623 - accuracy: 0.4666\n",
      "Epoch 21/50\n",
      "53/53 [==============================] - 167s 3s/step - loss: 1.3547 - accuracy: 0.4695\n",
      "Epoch 22/50\n",
      "53/53 [==============================] - 108s 2s/step - loss: 1.3465 - accuracy: 0.4756\n",
      "Epoch 23/50\n",
      "53/53 [==============================] - 91s 2s/step - loss: 1.3335 - accuracy: 0.4812\n",
      "Epoch 24/50\n",
      "53/53 [==============================] - 101s 2s/step - loss: 1.3321 - accuracy: 0.4823\n",
      "Epoch 25/50\n",
      "53/53 [==============================] - 90s 2s/step - loss: 1.3161 - accuracy: 0.4893\n",
      "Epoch 26/50\n",
      "53/53 [==============================] - 96s 2s/step - loss: 1.3067 - accuracy: 0.4936\n",
      "Epoch 27/50\n",
      "53/53 [==============================] - 99s 2s/step - loss: 1.2956 - accuracy: 0.4982\n",
      "Epoch 28/50\n",
      "53/53 [==============================] - 105s 2s/step - loss: 1.2885 - accuracy: 0.5056\n",
      "Epoch 29/50\n",
      "53/53 [==============================] - 93s 2s/step - loss: 1.2853 - accuracy: 0.5068\n",
      "Epoch 30/50\n",
      "53/53 [==============================] - 97s 2s/step - loss: 1.2822 - accuracy: 0.5044\n",
      "Epoch 31/50\n",
      "53/53 [==============================] - 99s 2s/step - loss: 1.2662 - accuracy: 0.5140\n",
      "Epoch 32/50\n",
      "53/53 [==============================] - 90s 2s/step - loss: 1.2599 - accuracy: 0.5125\n",
      "Epoch 33/50\n",
      "53/53 [==============================] - 90s 2s/step - loss: 1.2542 - accuracy: 0.5188\n",
      "Epoch 34/50\n",
      "53/53 [==============================] - 90s 2s/step - loss: 1.2449 - accuracy: 0.5240\n",
      "Epoch 35/50\n",
      "53/53 [==============================] - 106s 2s/step - loss: 1.2464 - accuracy: 0.5217\n",
      "Epoch 36/50\n",
      "53/53 [==============================] - 101s 2s/step - loss: 1.2376 - accuracy: 0.5256\n",
      "Epoch 37/50\n",
      "53/53 [==============================] - 103s 2s/step - loss: 1.2270 - accuracy: 0.5306\n",
      "Epoch 38/50\n",
      "53/53 [==============================] - 100s 2s/step - loss: 1.2236 - accuracy: 0.5291\n",
      "Epoch 39/50\n",
      "53/53 [==============================] - 96s 2s/step - loss: 1.2108 - accuracy: 0.5370\n",
      "Epoch 40/50\n",
      "53/53 [==============================] - 88s 2s/step - loss: 1.2075 - accuracy: 0.5372\n",
      "Epoch 41/50\n",
      "53/53 [==============================] - 131s 2s/step - loss: 1.2102 - accuracy: 0.5363\n",
      "Epoch 42/50\n",
      "53/53 [==============================] - 100s 2s/step - loss: 1.2023 - accuracy: 0.5373\n",
      "Epoch 43/50\n",
      "53/53 [==============================] - 94s 2s/step - loss: 1.1878 - accuracy: 0.5478\n",
      "Epoch 44/50\n",
      "53/53 [==============================] - 93s 2s/step - loss: 1.1912 - accuracy: 0.5458\n",
      "Epoch 45/50\n",
      "53/53 [==============================] - 96s 2s/step - loss: 1.1783 - accuracy: 0.5531\n",
      "Epoch 46/50\n",
      "53/53 [==============================] - 93s 2s/step - loss: 1.1737 - accuracy: 0.5529\n",
      "Epoch 47/50\n",
      "53/53 [==============================] - 99s 2s/step - loss: 1.1814 - accuracy: 0.5517\n",
      "Epoch 48/50\n",
      "53/53 [==============================] - 92s 2s/step - loss: 1.1683 - accuracy: 0.5569\n",
      "Epoch 49/50\n",
      "53/53 [==============================] - 87s 2s/step - loss: 1.1589 - accuracy: 0.5640\n",
      "Epoch 50/50\n",
      "53/53 [==============================] - 97s 2s/step - loss: 1.1521 - accuracy: 0.5662\n"
     ]
    },
    {
     "data": {
      "text/plain": [
       "<keras.src.callbacks.History at 0x232a4a3e1d0>"
      ]
     },
     "execution_count": 15,
     "metadata": {},
     "output_type": "execute_result"
    }
   ],
   "source": [
    "model.fit(X_train,y_train,batch_size=500,epochs=50)"
   ]
  },
  {
   "cell_type": "code",
   "execution_count": 17,
   "metadata": {},
   "outputs": [
    {
     "name": "stdout",
     "output_type": "stream",
     "text": [
      "211/211 [==============================] - 7s 34ms/step - loss: 1.2703 - accuracy: 0.5176\n",
      "Loss: 1.2703001499176025\n",
      "Accuracy: 0.5175737738609314\n"
     ]
    }
   ],
   "source": [
    "loss,accu=model.evaluate(X_test,y_test)         # returns loss and accuracy of test set\n",
    "print('Loss:',loss)\n",
    "print('Accuracy:',accu)"
   ]
  },
  {
   "cell_type": "code",
   "execution_count": 18,
   "metadata": {},
   "outputs": [
    {
     "data": {
      "text/plain": [
       "<matplotlib.image.AxesImage at 0x232f9f76650>"
      ]
     },
     "execution_count": 18,
     "metadata": {},
     "output_type": "execute_result"
    },
    {
     "data": {
      "image/png": "[encoded data removed]",
      "text/plain": [
       "<Figure size 640x480 with 1 Axes>"
      ]
     },
     "metadata": {},
     "output_type": "display_data"
    }
   ],
   "source": [
    "img=imread(r'D:\\DL Projects\\Projects\\Emotion Detection\\test\\happy\\im5.png')\n",
    "plt.imshow(img)"
   ]
  },
  {
   "cell_type": "code",
   "execution_count": 19,
   "metadata": {},
   "outputs": [],
   "source": [
    "img=resize(img,(64,64,1))\n",
    "img_array=np.array(img)\n",
    "img_array=img_array.reshape(1,64,64,1)  # same dimension as X_train"
   ]
  },
  {
   "cell_type": "code",
   "execution_count": 20,
   "metadata": {},
   "outputs": [
    {
     "name": "stdout",
     "output_type": "stream",
     "text": [
      "1/1 [==============================] - 0s 155ms/step\n",
      "[[0.04516981 0.015049   0.8778675  0.02318769 0.03698705 0.00173885]]\n"
     ]
    }
   ],
   "source": [
    "pred=model.predict(img_array)\n",
    "print(pred)"
   ]
  },
  {
   "cell_type": "code",
   "execution_count": 21,
   "metadata": {},
   "outputs": [
    {
     "name": "stdout",
     "output_type": "stream",
     "text": [
      "2\n",
      "happy\n"
     ]
    }
   ],
   "source": [
    "ind=pred.argmax()  # max percentage in class labels\n",
    "print(ind)\n",
    "print(categories[ind])"
   ]
  },
  {
   "cell_type": "code",
   "execution_count": 22,
   "metadata": {},
   "outputs": [
    {
     "name": "stderr",
     "output_type": "stream",
     "text": [
      "c:\\Users\\user\\AppData\\Local\\Programs\\Python\\Python311\\Lib\\site-packages\\keras\\src\\engine\\training.py:3000: UserWarning: You are saving your model as an HDF5 file via `model.save()`. This file format is considered legacy. We recommend using instead the native Keras format, e.g. `model.save('my_model.keras')`.\n",
      "  saving_api.save_model(\n"
     ]
    }
   ],
   "source": [
    "model.save('emotion_model.h5')"
   ]
  }
 ],
 "metadata": {
  "kernelspec": {
   "display_name": "Python 3",
   "language": "python",
   "name": "python3"
  },
  "language_info": {
   "codemirror_mode": {
    "name": "ipython",
    "version": 3
   },
   "file_extension": ".py",
   "mimetype": "text/x-python",
   "name": "python",
   "nbconvert_exporter": "python",
   "pygments_lexer": "ipython3",
   "version": "3.11.1"
  },
  "orig_nbformat": 4
 },
 "nbformat": 4,
 "nbformat_minor": 2
}
